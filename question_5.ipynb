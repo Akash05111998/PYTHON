{
 "cells": [
  {
   "cell_type": "code",
   "execution_count": 1,
   "metadata": {},
   "outputs": [
    {
     "name": "stdout",
     "output_type": "stream",
     "text": [
      "\n",
      "Student Data:\n",
      "Full Name: Akash Nagrale\n",
      "Email Address: akashnagrale30@gmail.com\n",
      "Mobile Number: 7620148910\n",
      "Gender: M\n",
      "Course: IT\n"
     ]
    }
   ],
   "source": [
    "# Lambda functions for each field\n",
    "get_name = lambda: input(\"Enter your full name: \")\n",
    "get_email = lambda: input(\"Enter your email address: \")\n",
    "get_mobile = lambda: input(\"Enter your mobile phone number: \")\n",
    "get_gender = lambda: input(\"Enter your gender (Male/Female): \")\n",
    "get_course = lambda: input(\"Enter your course name (e.g., Electronics, Mechanical, IT, Electrical, EnTC): \")\n",
    "\n",
    "\n",
    "student_name = get_name()\n",
    "student_email = get_email()\n",
    "student_mobile = get_mobile()\n",
    "student_gender = get_gender()\n",
    "student_course = get_course()\n",
    "\n",
    "\n",
    "student_data = {\n",
    "    \"Full Name\": student_name,\n",
    "    \"Email Address\": student_email,\n",
    "    \"Mobile Number\": student_mobile,\n",
    "    \"Gender\": student_gender,\n",
    "    \"Course\": student_course\n",
    "}\n",
    "\n",
    "\n",
    "print(\"\\nStudent Data:\")\n",
    "for field, info in student_data.items():\n",
    "    print(f\"{field}: {info}\")\n"
   ]
  },
  {
   "cell_type": "markdown",
   "metadata": {},
   "source": []
  },
  {
   "cell_type": "code",
   "execution_count": 21,
   "metadata": {},
   "outputs": [
    {
     "data": {
      "text/plain": [
       "''"
      ]
     },
     "execution_count": 21,
     "metadata": {},
     "output_type": "execute_result"
    }
   ],
   "source": [
    "name = lambda : input(\"Enter your name\")\n",
    "name = name()\n",
    "name\n"
   ]
  },
  {
   "cell_type": "code",
   "execution_count": 22,
   "metadata": {},
   "outputs": [
    {
     "data": {
      "text/plain": [
       "''"
      ]
     },
     "execution_count": 22,
     "metadata": {},
     "output_type": "execute_result"
    }
   ],
   "source": [
    "email = lambda : input(\"Enter your name\")\n",
    "email = email()\n",
    "email"
   ]
  },
  {
   "cell_type": "code",
   "execution_count": 23,
   "metadata": {},
   "outputs": [
    {
     "data": {
      "text/plain": [
       "''"
      ]
     },
     "execution_count": 23,
     "metadata": {},
     "output_type": "execute_result"
    }
   ],
   "source": [
    "mobile = lambda : input(\"Enter your name\")\n",
    "mobile = mobile()\n",
    "mobile\n"
   ]
  },
  {
   "cell_type": "code",
   "execution_count": 24,
   "metadata": {},
   "outputs": [
    {
     "data": {
      "text/plain": [
       "''"
      ]
     },
     "execution_count": 24,
     "metadata": {},
     "output_type": "execute_result"
    }
   ],
   "source": [
    "gender = lambda : input(\"Enter gender Male or Female\")\n",
    "gender = gender()\n",
    "gender.title()"
   ]
  },
  {
   "cell_type": "code",
   "execution_count": 25,
   "metadata": {},
   "outputs": [
    {
     "data": {
      "text/plain": [
       "''"
      ]
     },
     "execution_count": 25,
     "metadata": {},
     "output_type": "execute_result"
    }
   ],
   "source": [
    "course = lambda: input('Enter Courses->[Electronic, IT, Mechanical, Electrical, Civil]')\n",
    "course = course()\n",
    "course"
   ]
  },
  {
   "cell_type": "code",
   "execution_count": null,
   "metadata": {},
   "outputs": [],
   "source": []
  },
  {
   "cell_type": "code",
   "execution_count": null,
   "metadata": {},
   "outputs": [],
   "source": []
  },
  {
   "cell_type": "code",
   "execution_count": null,
   "metadata": {},
   "outputs": [],
   "source": []
  }
 ],
 "metadata": {
  "kernelspec": {
   "display_name": "Python 3",
   "language": "python",
   "name": "python3"
  },
  "language_info": {
   "codemirror_mode": {
    "name": "ipython",
    "version": 3
   },
   "file_extension": ".py",
   "mimetype": "text/x-python",
   "name": "python",
   "nbconvert_exporter": "python",
   "pygments_lexer": "ipython3",
   "version": "3.12.8"
  }
 },
 "nbformat": 4,
 "nbformat_minor": 2
}
