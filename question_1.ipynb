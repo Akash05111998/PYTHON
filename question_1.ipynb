{
 "cells": [
  {
   "cell_type": "markdown",
   "id": "9cd9fb71",
   "metadata": {},
   "source": []
  },
  {
   "cell_type": "code",
   "execution_count": 42,
   "id": "c57c2818-e2e9-4ad9-8bb1-01238efff6bb",
   "metadata": {},
   "outputs": [
    {
     "name": "stdout",
     "output_type": "stream",
     "text": [
      "Enter the number of elements you want to add to the list:  5\n",
      "Enter a value (string, number, etc.):  sanket\n",
      "Enter a value (string, number, etc.):  wade\n",
      "Enter a value (string, number, etc.):  9\n",
      "Enter a value (string, number, etc.):  85\n",
      "Enter a value (string, number, etc.):  25\n"
     ]
    },
    {
     "name": "stdout",
     "output_type": "stream",
     "text": [
      "\n",
      "Original Mixed List: ['sanket', 'wade', 9, 85, 25]\n",
      "Strings List: ['sanket', 'wade']\n",
      "Non-Strings List: [9, 85, 25]\n"
     ]
    }
   ],
   "source": [
    "\n",
    "\n",
    "## usinig try and except \n",
    "# Initialize lists\n",
    "all_elements = []\n",
    "string_elements = []\n",
    "non_string_elements = []\n",
    "\n",
    "\n",
    "total_elements = int(input(\"Enter the number of elements you want to add to the list: \"))\n",
    "\n",
    "\n",
    "for _ in range(total_elements):\n",
    "    user_input = input(\"Enter a value (string, number, etc.): \")\n",
    "   \n",
    "    try:\n",
    "       \n",
    "        evaluated_value = eval(user_input)\n",
    "    except:\n",
    "    \n",
    "        evaluated_value = user_input\n",
    "    all_elements.append(evaluated_value)\n",
    "\n",
    "\n",
    "for element in all_elements:\n",
    "    if isinstance(element, str):\n",
    "        string_elements.append(element)\n",
    "    else:\n",
    "        non_string_elements.append(element)\n",
    "\n",
    "# Display the results\n",
    "print(\"\\nOriginal Mixed List:\", all_elements)\n",
    "print(\"Strings List:\", string_elements)\n",
    "print(\"Non-Strings List:\", non_string_elements)\n",
    "\n"
   ]
  },
  {
   "cell_type": "code",
   "execution_count": 49,
   "id": "dc1b0c49-0825-4bf4-abef-24f3e286a047",
   "metadata": {},
   "outputs": [
    {
     "name": "stdout",
     "output_type": "stream",
     "text": [
      "Enter lenth of element 5\n",
      "Enter string, number or char whatever you want 52\n"
     ]
    },
    {
     "name": "stdout",
     "output_type": "stream",
     "text": [
      "52\n"
     ]
    },
    {
     "name": "stdout",
     "output_type": "stream",
     "text": [
      "Enter string, number or char whatever you want 25\n"
     ]
    },
    {
     "name": "stdout",
     "output_type": "stream",
     "text": [
      "25\n"
     ]
    },
    {
     "name": "stdout",
     "output_type": "stream",
     "text": [
      "Enter string, number or char whatever you want sanket\n",
      "Enter string, number or char whatever you want wade\n",
      "Enter string, number or char whatever you want 65\n"
     ]
    },
    {
     "name": "stdout",
     "output_type": "stream",
     "text": [
      "65\n"
     ]
    },
    {
     "data": {
      "text/plain": [
       "('non_string_list = [52, 25, 65]', \"string_list = ['sanket', 'wade']\")"
      ]
     },
     "execution_count": 49,
     "metadata": {},
     "output_type": "execute_result"
    }
   ],
   "source": [
    "\n",
    "## using fucntiom\n",
    "def collect_user_input(number_of_elements):\n",
    "    \"\"\"Function to take strings, numbers, and characters from the user.\"\"\"\n",
    "    mixed_elements = []\n",
    "    string_elements = []\n",
    "    non_string_elements = []\n",
    "    \n",
    "    for _ in range(number_of_elements):\n",
    "        user_input = input(\"Enter a string, number, or character: \")\n",
    "        try:\n",
    "           \n",
    "            parsed_value = eval(user_input)\n",
    "        except:\n",
    "           \n",
    "            parsed_value = user_input\n",
    "        mixed_elements.append(parsed_value)\n",
    "    \n",
    "    \n",
    "    for element in mixed_elements:\n",
    "        if isinstance(element, (int, float)):\n",
    "            non_string_elements.append(element)\n",
    "        else:\n",
    "            string_elements.append(element)\n",
    "    \n",
    "    \n",
    "    non_strings_result = \"non_string_list = {}\".format(non_string_elements)\n",
    "    strings_result = \"string_list = {}\".format(string_elements)\n",
    "    return non_strings_result, strings_result\n",
    "\n",
    "\n",
    "print(\n",
    "    collect_user_input(\n",
    "        int(input(\"Enter the number of elements to input: \"))\n",
    "    )\n",
    ")\n",
    "\n",
    "        \n",
    "    \n",
    "\n",
    "\n",
    "\n",
    "        "
   ]
  },
  {
   "cell_type": "code",
   "execution_count": null,
   "id": "4a3dacdc-9c58-424e-8ebf-15ceeccd149d",
   "metadata": {},
   "outputs": [],
   "source": []
  },
  {
   "cell_type": "code",
   "execution_count": null,
   "id": "3f01cbe7-36d3-4338-b842-abcdc9ea3df8",
   "metadata": {},
   "outputs": [],
   "source": []
  },
  {
   "cell_type": "code",
   "execution_count": null,
   "id": "8c163e04-6ec1-43bc-b462-a7cabd64d545",
   "metadata": {},
   "outputs": [],
   "source": []
  },
  {
   "cell_type": "code",
   "execution_count": null,
   "id": "2960ea16-c08e-4878-a747-fbecd44ba08c",
   "metadata": {},
   "outputs": [],
   "source": []
  }
 ],
 "metadata": {
  "kernelspec": {
   "display_name": "Python 3 (ipykernel)",
   "language": "python",
   "name": "python3"
  },
  "language_info": {
   "codemirror_mode": {
    "name": "ipython",
    "version": 3
   },
   "file_extension": ".py",
   "mimetype": "text/x-python",
   "name": "python",
   "nbconvert_exporter": "python",
   "pygments_lexer": "ipython3",
   "version": "3.11.7"
  }
 },
 "nbformat": 4,
 "nbformat_minor": 5
}
