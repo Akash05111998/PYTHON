{
 "cells": [
  {
   "cell_type": "code",
   "execution_count": 3,
   "metadata": {},
   "outputs": [],
   "source": [
    "import logging\n",
    "import os\n",
    "import sys\n",
    "import re"
   ]
  },
  {
   "cell_type": "code",
   "execution_count": 4,
   "metadata": {},
   "outputs": [
    {
     "name": "stderr",
     "output_type": "stream",
     "text": [
      "2025-01-19 16:40:58,345 - INFO - Validation successful: 'male' is a valid gender\n"
     ]
    },
    {
     "name": "stdout",
     "output_type": "stream",
     "text": [
      "'male' is valid\n"
     ]
    }
   ],
   "source": [
    "import logging\n",
    "\n",
    "# Configure logging\n",
    "logger = logging.getLogger()\n",
    "logger.setLevel(logging.INFO)\n",
    "\n",
    "# File handler\n",
    "file_handler = logging.FileHandler('gender_validation.log')\n",
    "file_handler.setLevel(logging.INFO)\n",
    "file_handler.setFormatter(logging.Formatter('%(asctime)s - %(levelname)s - %(message)s'))\n",
    "\n",
    "# Console handler\n",
    "console_handler = logging.StreamHandler()\n",
    "console_handler.setLevel(logging.INFO)\n",
    "console_handler.setFormatter(logging.Formatter('%(asctime)s - %(levelname)s - %(message)s'))\n",
    "\n",
    "# Add handlers to the logger\n",
    "logger.addHandler(file_handler)\n",
    "logger.addHandler(console_handler)\n",
    "\n",
    "def validate_gender(gender):\n",
    "    try:\n",
    "        if gender is None:\n",
    "            logger.error(\"Validation failed: gender cannot be None\")\n",
    "            raise ValueError(\"gender cannot be None\")\n",
    "        elif not isinstance(gender, str):\n",
    "            logger.error(\"Validation failed: gender must be a string\")\n",
    "            raise ValueError(\"gender must be a string\")\n",
    "        elif gender.lower() not in ['male', 'female', 'other']:\n",
    "            logger.error(f\"Validation failed: '{gender}' is not a valid gender\")\n",
    "            raise ValueError(\"gender must be 'male', 'female', or 'other'\")\n",
    "        logger.info(f\"Validation successful: '{gender}' is a valid gender\")\n",
    "        return True\n",
    "    except ValueError as e:\n",
    "        logger.exception(f\"Exception occurred: {e}\")\n",
    "        return False\n",
    "\n",
    "def test_gender_validation(genders):\n",
    "    for gender in genders:\n",
    "        if validate_gender(gender):\n",
    "            print(f\"'{gender}' is valid\")\n",
    "        else:\n",
    "            print(f\"'{gender}' is invalid\")\n",
    "\n",
    "# Function call\n",
    "genders = input(\"Enter genders separated by spaces: \").strip().split()\n",
    "test_gender_validation(genders)"
   ]
  },
  {
   "cell_type": "code",
   "execution_count": null,
   "metadata": {},
   "outputs": [],
   "source": [
    "import logging\n",
    "\n",
    "# Configure logging\n",
    "logger = logging.getLogger()\n",
    "logger.setLevel(logging.INFO)\n",
    "\n",
    "# File handler\n",
    "file_handler = logging.FileHandler('gender_validation.log')\n",
    "file_handler.setLevel(logging.INFO)\n",
    "file_handler.setFormatter(logging.Formatter('%(asctime)s - %(levelname)s - %(message)s'))\n",
    "\n",
    "# Console handler\n",
    "console_handler = logging.StreamHandler()\n",
    "console_handler.setLevel(logging.INFO)\n",
    "console_handler.setFormatter(logging.Formatter('%(asctime)s - %(levelname)s - %(message)s'))\n",
    "\n",
    "# Add handlers to the logger\n",
    "logger.addHandler(file_handler)\n",
    "logger.addHandler(console_handler)\n",
    "\n",
    "def validate_gender(gender):\n",
    "    try:\n",
    "        if gender is None:\n",
    "            logger.error(\"Validation failed: gender cannot be None\")\n",
    "            raise ValueError(\"gender cannot be None\")\n",
    "        elif not isinstance(gender, str):\n",
    "            logger.error(\"Validation failed: gender must be a string\")\n",
    "            raise ValueError(\"gender must be a string\")\n",
    "        elif gender.upper() not in ['M', 'F', 'O']:\n",
    "            logger.error(f\"Validation failed: '{gender}' is not a valid gender\")\n",
    "            raise ValueError(\"gender must be 'M', 'F', or 'O'\")\n",
    "        \n",
    "        full_gender = {'M': 'Male', 'F': 'Female', 'O': 'Other'}[gender.upper()]\n",
    "        logger.info(f\"Validation successful: '{gender}' is a valid gender ({full_gender})\")\n",
    "        return full_gender\n",
    "    except ValueError as e:\n",
    "        logger.exception(f\"Exception occurred: {e}\")\n",
    "        return None\n",
    "\n",
    "def test_gender_validation(genders):\n",
    "    for gender in genders:\n",
    "        full_gender = validate_gender(gender)\n",
    "        if full_gender:\n",
    "            print(f\"'{gender}' is valid and corresponds to {full_gender}\")\n",
    "        else:\n",
    "            print(f\"'{gender}' is invalid\")\n",
    "\n",
    "# Function call\n",
    "genders = input(\"Enter genders separated by spaces (M for male, F for female, O for others): \").strip().split()\n",
    "test_gender_validation(genders)"
   ]
  }
 ],
 "metadata": {
  "kernelspec": {
   "display_name": "base",
   "language": "python",
   "name": "python3"
  },
  "language_info": {
   "codemirror_mode": {
    "name": "ipython",
    "version": 3
   },
   "file_extension": ".py",
   "mimetype": "text/x-python",
   "name": "python",
   "nbconvert_exporter": "python",
   "pygments_lexer": "ipython3",
   "version": "3.11.7"
  }
 },
 "nbformat": 4,
 "nbformat_minor": 2
}
