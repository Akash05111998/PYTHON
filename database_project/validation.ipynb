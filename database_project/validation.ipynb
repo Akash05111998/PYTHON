{
 "cells": [
  {
   "cell_type": "code",
   "execution_count": 37,
   "metadata": {},
   "outputs": [
    {
     "name": "stdout",
     "output_type": "stream",
     "text": [
      "'sanket' is invalid: name must be alphabetic\n"
     ]
    }
   ],
   "source": [
    "import sys\n",
    "import os\n",
    "import re\n",
    "import datetime\n",
    "import time\n",
    "import math\n",
    "import functools\n",
    "import logging\n",
    "\n",
    "\n",
    "# validate a name: it must be a string and have at least two character \n",
    "\n",
    "#name  = input(\"Enter your name: \")\n",
    "def validate_name(name):\n",
    "    if name == None:\n",
    "        raise ValueError(\"name can not be None\")\n",
    "    elif not isinstance(name, str): \n",
    "            raise ValueError(\"name must be a string\")\n",
    "    elif len(name) < 2:\n",
    "            raise ValueError(\"name must have at least two characters\") \n",
    "    elif name.isdigit():\n",
    "            raise ValueError(\"name must be alphabetic\")\n",
    "    elif name.isspace():\n",
    "            raise ValueError(\"name must be alphabetic\")\n",
    "    elif name.isalnum():\n",
    "            raise ValueError(\"name must be alphabetic\")\n",
    "            \n",
    "    else:\n",
    "        return name.title()\n",
    "test_names = input(\"Enter your name: \").split()\n",
    "\n",
    "for name in test_names:\n",
    "    try:\n",
    "        validate_name(name)\n",
    "        print(f\"'{name}' is valid\")\n",
    "    except ValueError as e:\n",
    "        print(f\"'{name}' is invalid: {e}\")\n",
    "\n",
    "\n",
    "\n",
    "\n",
    "\n",
    "\n",
    "\n"
   ]
  },
  {
   "cell_type": "code",
   "execution_count": 6,
   "metadata": {},
   "outputs": [
    {
     "name": "stdout",
     "output_type": "stream",
     "text": [
      "name must be alphabetic\n",
      "Name is invalid\n"
     ]
    }
   ],
   "source": [
    "import logging\n",
    "\n",
    "\n",
    "# Configure logging\n",
    "logger = logging.getLogger()\n",
    "logger.setLevel(logging.INFO)\n",
    "logging.basicConfig(filename='name_validation.log', level=logging.INFO, \n",
    "                    format='%(levelname)s - %(message)s')\n",
    "\n",
    "def validate_name(name):\n",
    "    if name is None:\n",
    "        logging.error(\"Validation failed: name cannot be None\")\n",
    "        raise ValueError(\"name cannot be None\")\n",
    "    elif not isinstance(name, str):\n",
    "        logging.error(\"Validation failed: name must be a string\")\n",
    "        raise ValueError(\"name must be a string\")\n",
    "    elif len(name) < 2:\n",
    "        logging.error(\"Validation failed: name must have at least two characters\")\n",
    "        raise ValueError(\"name must have at least two characters\")\n",
    "    elif not name.isalpha():\n",
    "        logging.error(\"Validation failed: name must be alphabetic\")\n",
    "        raise ValueError(\"name must be alphabetic\")\n",
    "    elif name.isalnum():\n",
    "            raise ValueError(\"name must be alphabetic\")\n",
    "            logging.error(\"Validation failed: name must be alphabetic\")\n",
    "    elif name.isspace() == True:\n",
    "            raise ValueError(\"name must be alphabetic\")\n",
    "            logging.error(\"Validation failed: name must be alphabetic\") \n",
    "    else:\n",
    "        return name.title()   \n",
    "\n",
    "    logging.info(\"Validation successful: name is valid\")\n",
    "\n",
    "name = input(\"Enter your name: \")\n",
    "try:\n",
    "    validate_name(name)\n",
    "    print(\"Name is valid\")\n",
    "    print(f\"Hello, {name}!\")\n",
    "except ValueError as e:\n",
    "    print(e)\n",
    "    print(\"Name is invalid\")"
   ]
  },
  {
   "cell_type": "code",
   "execution_count": 5,
   "metadata": {},
   "outputs": [
    {
     "name": "stdout",
     "output_type": "stream",
     "text": [
      "________________________________________________________________________________________\n",
      "________________________________________________________________________________________\n"
     ]
    },
    {
     "name": "stderr",
     "output_type": "stream",
     "text": [
      "INFO - Validation successful: name is valid\n",
      "INFO - Validation successful: name is valid\n",
      "INFO - Validation successful: name is valid\n"
     ]
    },
    {
     "name": "stdout",
     "output_type": "stream",
     "text": [
      "Name is valid\n",
      "Hello, sanket!\n"
     ]
    }
   ],
   "source": [
    "import logging\n",
    "\n",
    "\n",
    "\n",
    "def validate_name(name):\n",
    "    if name is None:\n",
    "        logger.error(\"Validation failed: name cannot be None\")\n",
    "        raise ValueError(\"name cannot be None\")\n",
    "    elif not isinstance(name, str):\n",
    "        logger.error(\"Validation failed: name must be a string\")\n",
    "        raise ValueError(\"name must be a string\")\n",
    "    elif len(name) < 2:\n",
    "        logger.error(\"Validation failed: name must have at least two characters\")\n",
    "        raise ValueError(\"name must have at least two characters\")\n",
    "    elif not name.isalpha():\n",
    "        logger.error(\"Validation failed: name must be alphabetic\")\n",
    "        raise ValueError(\"name must be alphabetic\")\n",
    "    \n",
    "    else:\n",
    "        logger.info(\"Validation successful: name is valid\")\n",
    "        first_name = name.title()\n",
    "    return first_name\n",
    "\n",
    "print(\"________________________________________________________________________________________\")\n",
    "\n",
    "# Configure logging\n",
    "logger = logging.getLogger()\n",
    "logger.setLevel(logging.INFO)\n",
    "\n",
    "# File handler\n",
    "file_handler = logging.FileHandler('name_validation.log')\n",
    "file_handler.setLevel(logging.INFO)\n",
    "file_handler.setFormatter(logging.Formatter('%(levelname)s - %(message)s'))\n",
    "\n",
    "# Console handler\n",
    "console_handler = logging.StreamHandler()\n",
    "console_handler.setLevel(logging.INFO)\n",
    "console_handler.setFormatter(logging.Formatter('%(levelname)s - %(message)s'))\n",
    "\n",
    "# Add handlers to the logger\n",
    "logger.addHandler(file_handler)\n",
    "logger.addHandler(console_handler)\n",
    "\n",
    "print(\"________________________________________________________________________________________\")\n",
    "\n",
    "name = input(\"Enter your name: \")\n",
    "try:\n",
    "    validate_name(name)\n",
    "    print(\"Name is valid\")\n",
    "    print(f\"Hello, {name}!\")\n",
    "except ValueError as e:\n",
    "    print(e)\n",
    "    print(\"Name is invalid\")\n",
    "\n"
   ]
  },
  {
   "cell_type": "code",
   "execution_count": null,
   "metadata": {},
   "outputs": [],
   "source": []
  },
  {
   "cell_type": "code",
   "execution_count": 4,
   "metadata": {},
   "outputs": [
    {
     "ename": "NameError",
     "evalue": "name 'os' is not defined",
     "output_type": "error",
     "traceback": [
      "\u001b[1;31m---------------------------------------------------------------------------\u001b[0m",
      "\u001b[1;31mNameError\u001b[0m                                 Traceback (most recent call last)",
      "Cell \u001b[1;32mIn[4], line 1\u001b[0m\n\u001b[1;32m----> 1\u001b[0m os\u001b[38;5;241m.\u001b[39mgetcwd()\n",
      "\u001b[1;31mNameError\u001b[0m: name 'os' is not defined"
     ]
    }
   ],
   "source": [
    "os.getcwd()"
   ]
  },
  {
   "cell_type": "code",
   "execution_count": 27,
   "metadata": {},
   "outputs": [
    {
     "name": "stderr",
     "output_type": "stream",
     "text": [
      "ERROR - Validation failed:sanket email must contain @\n",
      "ERROR - Validation failed:sanket email must contain @\n",
      "ERROR - Validation failed:sanket email must contain @\n",
      "ERROR - Validation failed:sanket email must contain @\n",
      "ERROR - Validation failed:sanket email must contain @\n",
      "ERROR - Validation failed:sanket email must contain @\n",
      "ERROR - Validation failed:sanket email must contain @\n",
      "ERROR - Validation failed:sanket email must contain @\n",
      "ERROR - Validation failed:sanket email must contain @\n",
      "ERROR - Validation failed:sanket email must contain @\n",
      "ERROR - Validation failed:sanket email must contain @\n",
      "ERROR - Validation failed:sanket email must contain @\n",
      "ERROR - Validation failed:sanket email must contain @\n",
      "ERROR - Validation failed:sanket email must contain @\n",
      "ERROR - Validation failed:sanket email must contain @\n",
      "ERROR - Validation failed:sanket email must contain @\n",
      "ERROR - Validation failed:sanket email must contain @\n",
      "ERROR - Validation failed:sanket email must contain @\n",
      "ERROR - Validation failed:sanket email must contain @\n",
      "ERROR - Validation failed:sanket email must contain @\n",
      "ERROR - Validation failed:sanket email must contain @\n",
      "ERROR - Validation failed:sanket email must contain @\n",
      "ERROR - Validation failed:sanket email must contain @\n",
      "ERROR - Validation failed:sanket email must contain @\n",
      "ERROR - Validation failed:sanket email must contain @\n",
      "ERROR - Validation failed:sanket email must contain @\n",
      "ERROR - Validation failed:sanket email must contain @\n",
      "ERROR - Validation failed:sanket email must contain @\n",
      "ERROR - Validation failed:sanket email must contain @\n",
      "ERROR - Validation failed:sanket email must contain @\n",
      "ERROR - Validation failed:sanket email must contain @\n",
      "ERROR - Validation failed:sanket email must contain @\n",
      "ERROR - Validation failed:sanket email must contain @\n",
      "ERROR - Validation failed:sanket email must contain @\n",
      "ERROR - Validation failed:sanket email must contain @\n",
      "ERROR - Validation failed:sanket email must contain @\n"
     ]
    },
    {
     "name": "stdout",
     "output_type": "stream",
     "text": [
      "'sanket' is invalid: email must contain @\n"
     ]
    }
   ],
   "source": [
    "import logging.config\n",
    "import os\n",
    "import re\n",
    "\n",
    "\n",
    "\n",
    "\n",
    "def test_email_validation(test_emails):\n",
    "    for email in test_emails:\n",
    "        try:\n",
    "            validate_email(email)\n",
    "            print(f\"'{email}' is valid\")\n",
    "        except ValueError as e:\n",
    "            print(f\"'{email}' is invalid: {e}\")\n",
    "    return test_emails\n",
    "\n",
    "\n",
    "\n",
    "test_email_validation(input(\"Enter your email: \").split())\n",
    "def validate_email(email):\n",
    "    # Configure logging\n",
    "    logger = logging.getLogger()\n",
    "    logger.setLevel(logging.INFO)\n",
    "\n",
    "    # File handler\n",
    "    file_handler = logging.FileHandler('email_validation.log')\n",
    "    file_handler.setLevel(logging.INFO)\n",
    "    file_handler.setFormatter(logging.Formatter('%(levelname)s - %(message)s'))\n",
    "\n",
    "    # Console handler\n",
    "    console_handler = logging.StreamHandler()\n",
    "    console_handler.setLevel(logging.INFO)\n",
    "    console_handler.setFormatter(logging.Formatter('%(levelname)s - %(message)s'))\n",
    "\n",
    "    # Add handlers to the logger\n",
    "    logger.addHandler(file_handler)\n",
    "    logger.addHandler(console_handler)\n",
    "\n",
    "\n",
    "\n",
    "\n",
    "    email_regex = r'^[a-zA-Z0-9._%+-]+@[a-zA-Z0-9.-]+\\.[a-zA-Z]{2,}$'\n",
    "    email_regexes = r\"^[a-zA-Z_0-9.]{1,25}[@][gmail]{5}[.][com]{3}$\"\n",
    "    if email == None:\n",
    "        logging.error(f\"Validation failed:{email} email cannot be None\")\n",
    "        raise ValueError(\"email can not be None\")\n",
    "    \n",
    "    elif len(email) < 6:\n",
    "        logging.error(f\"Validation failed:{email} email must have at least 6 characters\",)\n",
    "        raise ValueError(\"email must have at least 6 characters\")\n",
    "    \n",
    "    elif not \"@\" in email:\n",
    "        logging.error(f\"Validation failed:{email} email must contain @\")\n",
    "        raise ValueError(\"email must contain @\")\n",
    "    \n",
    "    elif not \".\" in email:\n",
    "        logging.error(f\"Validation failed:{email} email must contain .\")\n",
    "        raise ValueError(\"email must contain .\")\n",
    "    \n",
    "    elif email.startswith(\"@\"):\n",
    "        logging.error(f\"Validation failed:{email} email can not start with @\")\n",
    "        raise ValueError(\"email can not start with @\")\n",
    "    elif email.endswith(\"@\"):\n",
    "        logging.error(f\"Validation failed:{email} email can not end with @\")    \n",
    "        raise ValueError(\"email can not end with @\")\n",
    "    elif email.startswith(\".\"):\n",
    "        logging.error(f\"Validation failed:{email} email can not start with .\")\n",
    "        raise ValueError(\"email can not start with .\")\n",
    "    elif email.endswith(\".\"):\n",
    "        logging.error(f\"Validation failed:{email} email can not end with .\")\n",
    "        raise ValueError(\"email can not end with .\")\n",
    "    elif email.count(\"@\") > 1:\n",
    "        logging.error(f\"Validation failed:{email} email can not contain more than one @\")  \n",
    "        raise ValueError(\"email can not contain more than one @\")\n",
    "    elif email.count(\".\") > 1:\n",
    "        logging.error(f\"Validation failed:{email} email can not contain more than one .\")\n",
    "        raise ValueError(\"email can not contain more than one .\")\n",
    "    elif email.count(\"@\") < 1:\n",
    "        logging.error(f\"Validation failed:{email} email must contain @\")\n",
    "        raise ValueError(\"email must contain @\") \n",
    "    elif email.count(\".\") < 1:\n",
    "        logging.error(f\"Validation failed:{email} email must contain .\")\n",
    "        raise ValueError(\"email must contain .\")\n",
    "    elif email.count(\" \") > 0:\n",
    "        logging.error(f\"Validation failed:{email} email can not contain spaces\")\n",
    "        raise ValueError(\"email can not contain spaces\")\n",
    "    elif not re.match(email_regex, email):\n",
    "        logging.error(f\"Validation failed:{email} email is not valid\")\n",
    "        raise ValueError(\"email is not valid\")\n",
    "    \n",
    "    else:\n",
    "        logging.info(f\"Validation successful:{email} email is valid\")\n",
    "        return email.lower()\n",
    "    \n",
    "\n",
    "\n"
   ]
  },
  {
   "cell_type": "code",
   "execution_count": null,
   "metadata": {},
   "outputs": [],
   "source": []
  },
  {
   "cell_type": "code",
   "execution_count": 23,
   "metadata": {},
   "outputs": [],
   "source": [
    "\n",
    "def test_email_validation(test_emails):\n",
    "    for email in test_emails:\n",
    "        try:\n",
    "            validate_email(email)\n",
    "            print(f\"'{email}' is valid\")\n",
    "        except ValueError as e:\n",
    "            print(f\"'{email}' is invalid: {e}\")"
   ]
  },
  {
   "cell_type": "code",
   "execution_count": null,
   "metadata": {},
   "outputs": [],
   "source": []
  },
  {
   "cell_type": "code",
   "execution_count": 24,
   "metadata": {},
   "outputs": [
    {
     "name": "stderr",
     "output_type": "stream",
     "text": [
      "ERROR - Validation failed:sanketwade email must contain @\n",
      "ERROR - Validation failed:sanketwade email must contain @\n",
      "ERROR - Validation failed:sanketwade email must contain @\n",
      "ERROR - Validation failed:sanketwade email must contain @\n",
      "ERROR - Validation failed:sanketwade email must contain @\n",
      "ERROR - Validation failed:sanketwade email must contain @\n",
      "ERROR - Validation failed:sanketwade email must contain @\n",
      "ERROR - Validation failed:sanketwade email must contain @\n",
      "ERROR - Validation failed:sanketwade email must contain @\n",
      "ERROR - Validation failed:sanketwade email must contain @\n",
      "ERROR - Validation failed:sanketwade email must contain @\n",
      "ERROR - Validation failed:sanketwade email must contain @\n",
      "ERROR - Validation failed:sanketwade email must contain @\n",
      "ERROR - Validation failed:sanketwade email must contain @\n",
      "ERROR - Validation failed:sanketwade email must contain @\n",
      "ERROR - Validation failed:sanketwade email must contain @\n",
      "ERROR - Validation failed:sanketwade email must contain @\n",
      "ERROR - Validation failed:sanketwade email must contain @\n",
      "ERROR - Validation failed:sanketwade email must contain @\n",
      "ERROR - Validation failed:sanketwade email must contain @\n",
      "ERROR - Validation failed:sanketwade email must contain @\n",
      "ERROR - Validation failed:sanketwade email must contain @\n",
      "ERROR - Validation failed:sanketwade email must contain @\n",
      "ERROR - Validation failed:sanketwade email must contain @\n",
      "ERROR - Validation failed:sanketwade email must contain @\n",
      "ERROR - Validation failed:sanketwade email must contain @\n",
      "ERROR - Validation failed:sanketwade email must contain @\n",
      "ERROR - Validation failed:sanketwade email must contain @\n",
      "ERROR - Validation failed:sanketwade email must contain @\n",
      "ERROR - Validation failed:sanketwade email must contain @\n",
      "ERROR - Validation failed:sanketwade email must contain @\n",
      "ERROR - Validation failed:sanketwade email must contain @\n",
      "ERROR - Validation failed:sanketwade email must contain @\n"
     ]
    },
    {
     "name": "stdout",
     "output_type": "stream",
     "text": [
      "'sanketwade' is invalid: email must contain @\n"
     ]
    }
   ],
   "source": [
    "test_email_validation(test_emails)"
   ]
  },
  {
   "cell_type": "code",
   "execution_count": null,
   "metadata": {},
   "outputs": [],
   "source": []
  }
 ],
 "metadata": {
  "kernelspec": {
   "display_name": "base",
   "language": "python",
   "name": "python3"
  },
  "language_info": {
   "codemirror_mode": {
    "name": "ipython",
    "version": 3
   },
   "file_extension": ".py",
   "mimetype": "text/x-python",
   "name": "python",
   "nbconvert_exporter": "python",
   "pygments_lexer": "ipython3",
   "version": "3.11.7"
  }
 },
 "nbformat": 4,
 "nbformat_minor": 2
}
