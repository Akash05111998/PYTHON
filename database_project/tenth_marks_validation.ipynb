{
 "cells": [
  {
   "cell_type": "code",
   "execution_count": 1,
   "metadata": {},
   "outputs": [],
   "source": [
    "from logging_config import configure_logging\n",
    "import os \n",
    "import sys\n",
    "\n",
    "\n",
    "login_file = \"tenth_marks_validation.log \"\n",
    "logger = configure_logging(login_file)"
   ]
  },
  {
   "cell_type": "code",
   "execution_count": 3,
   "metadata": {},
   "outputs": [
    {
     "name": "stderr",
     "output_type": "stream",
     "text": [
      "2025-01-19 19:26:37,418 - ERROR - Validation failed: '101.0' is not within the valid range (0-100)\n",
      "2025-01-19 19:26:37,419 - ERROR - Exception occurred: marks must be between 0 and 100\n",
      "Traceback (most recent call last):\n",
      "  File \"C:\\Users\\sanke\\AppData\\Local\\Temp\\ipykernel_24824\\2261400121.py\", line 21, in validate_tenth_marks\n",
      "    raise ValueError(\"marks must be between 0 and 100\")\n",
      "ValueError: marks must be between 0 and 100\n"
     ]
    },
    {
     "name": "stdout",
     "output_type": "stream",
     "text": [
      "'101.0' is invalid\n"
     ]
    }
   ],
   "source": [
    "def validate_tenth_marks(marks):\n",
    "    \"\"\" \n",
    "    validate the given marks\n",
    "    Args:\n",
    "        marks (int or float) marks validate\n",
    "    Returun\n",
    "        bool: True---->>marks are valid, False \n",
    "              Flase---->> markas invalid\n",
    "    \"\"\"\n",
    "\n",
    "\n",
    "    try:\n",
    "        if marks is None:\n",
    "            logger.error(\"Validation failed: marks cannot be None\")\n",
    "            raise ValueError(\"marks cannot be None\")\n",
    "        elif not isinstance(marks, (int, float)):\n",
    "            logger.error(\"Validation failed: marks must be a number\")\n",
    "            raise TypeError(\"marks must be a number\")\n",
    "        elif marks < 0 or marks > 100:\n",
    "            logger.error(f\"Validation failed: '{marks}' is not within the valid range (0-100)\")\n",
    "            raise ValueError(\"marks must be between 0 and 100\")\n",
    "        \n",
    "        logger.info(f\"Validation successful: '{marks}' is a valid mark\")\n",
    "        return True\n",
    "    except (ValueError, TypeError) as e:\n",
    "        logger.exception(f\"Exception occurred: {e}\")\n",
    "        return False\n",
    "\n",
    "def marks_validation(marks_list):\n",
    "    for marks in marks_list:\n",
    "        if validate_tenth_marks(marks):\n",
    "            print(f\"'{marks}' is valid\")\n",
    "        else:\n",
    "            print(f\"'{marks}' is invalid\")\n",
    "\n",
    "# Example usage\n",
    "if __name__ == \"__main__\":\n",
    "    marks_input = input(\"Enter marks separated by spaces: \").strip().split()\n",
    "    marks_list = [float(mark) for mark in marks_input]\n",
    "    marks_validation(marks_list)"
   ]
  },
  {
   "cell_type": "code",
   "execution_count": 13,
   "metadata": {},
   "outputs": [
    {
     "name": "stderr",
     "output_type": "stream",
     "text": [
      "2025-01-19 19:36:49,342 - ERROR - Validation failed: '365.0' is not within the valid range (40-100)\n",
      "2025-01-19 19:36:49,342 - ERROR - Exception occurred: Not Eligible your 365.0% less than 40%\n",
      "Traceback (most recent call last):\n",
      "  File \"C:\\Users\\sanke\\AppData\\Local\\Temp\\ipykernel_24824\\1545820050.py\", line 15, in validate_tenth_percentage\n",
      "    raise ValueError(f\"Not Eligible your {percentage}% less than 40%\")\n",
      "ValueError: Not Eligible your 365.0% less than 40%\n"
     ]
    },
    {
     "name": "stdout",
     "output_type": "stream",
     "text": [
      "'365.0' is invalid\n"
     ]
    }
   ],
   "source": [
    "import logging\n",
    "\n",
    "\n",
    "\n",
    "def validate_tenth_percentage(percentage):\n",
    "    try:\n",
    "        if percentage is None:\n",
    "            logger.error(\"Validation failed: percentage cannot be None\")\n",
    "            raise ValueError(\"percentage cannot be None\")\n",
    "        elif not isinstance(percentage, (int, float)):\n",
    "            logger.error(\"Validation failed: percentage must be a number\")\n",
    "            raise TypeError(\"percentage must be a number\")\n",
    "        elif percentage < 40:\n",
    "            logger.error(f\"Validation failed: '{percentage}' is not within the valid range (40-100)\")\n",
    "            raise ValueError(f\"Not Eligible your {percentage}% less than 40%\")\n",
    "        elif percentage > 100:\n",
    "            logger.error(f\"Validation failed: '{percentage}' is not within the valid range (40-100)\")\n",
    "            raise ArithmeticError(f\"Not Eligible your {percentage}% less than 100%\")\n",
    "\n",
    "        elif isinstance(percentage, float) and len(str(percentage).split('.')[1]) > 2:\n",
    "            logger.error(f\"Validation failed: '{percentage}' has more than two decimal places\")\n",
    "            raise ValueError(\"percentage cannot have more than two decimal places\")\n",
    "        \n",
    "        logger.info(f\"Validation successful: '{percentage}' is a valid percentage\")\n",
    "        return True\n",
    "    except (ValueError, TypeError, ArithmeticError) as e:\n",
    "        logger.exception(f\"Exception occurred: {e}\")\n",
    "        return False\n",
    "\n",
    "def percentage_validation(percentages):\n",
    "    for percentage in percentages:\n",
    "        if validate_tenth_percentage(percentage):\n",
    "            print(f\"'{percentage}' is valid\")\n",
    "        else:\n",
    "            print(f\"'{percentage}' is invalid\")\n",
    "\n",
    "\n",
    "percentages_input = input(\"Enter percentages separated by spaces: \").strip().split()\n",
    "percentages_list = [float(percentage) for percentage in percentages_input]\n",
    "percentage_validation(percentages_list)"
   ]
  },
  {
   "cell_type": "code",
   "execution_count": null,
   "metadata": {},
   "outputs": [],
   "source": []
  },
  {
   "cell_type": "code",
   "execution_count": null,
   "metadata": {},
   "outputs": [],
   "source": []
  },
  {
   "cell_type": "code",
   "execution_count": null,
   "metadata": {},
   "outputs": [],
   "source": []
  }
 ],
 "metadata": {
  "kernelspec": {
   "display_name": "base",
   "language": "python",
   "name": "python3"
  },
  "language_info": {
   "codemirror_mode": {
    "name": "ipython",
    "version": 3
   },
   "file_extension": ".py",
   "mimetype": "text/x-python",
   "name": "python",
   "nbconvert_exporter": "python",
   "pygments_lexer": "ipython3",
   "version": "3.11.7"
  }
 },
 "nbformat": 4,
 "nbformat_minor": 2
}
